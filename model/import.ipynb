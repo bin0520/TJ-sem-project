{
 "cells": [
  {
   "cell_type": "code",
   "execution_count": 18,
   "metadata": {},
   "outputs": [],
   "source": [
    "import pandas as pd\n",
    "pd.set_option('display.max_columns', 1000)\n",
    "pd.set_option('display.max_rows', 1000)\n",
    "pd.set_option('display.width', 1000)\n",
    "\n",
    "df = pd.read_spss('/Users/apple/Documents/GitHub/TJ-sem-project/data0612_family.sav')\n"
   ]
  },
  {
   "cell_type": "code",
   "execution_count": null,
   "metadata": {},
   "outputs": [],
   "source": [
    "df\n",
    "print(df.head())"
   ]
  },
  {
   "cell_type": "markdown",
   "metadata": {},
   "source": [
    "# date cleaning"
   ]
  },
  {
   "cell_type": "code",
   "execution_count": null,
   "metadata": {},
   "outputs": [],
   "source": [
    "# Rename variables\n",
    "\n",
    "df = df.rename(columns={'核心家庭': 'coresidence', '年收入': 'income', '最高学历': 'edu', '年龄': 'age'})\n",
    "print(df.head())\n",
    "\n"
   ]
  },
  {
   "cell_type": "markdown",
   "metadata": {},
   "source": [
    "## coresidence"
   ]
  },
  {
   "cell_type": "code",
   "execution_count": null,
   "metadata": {},
   "outputs": [],
   "source": [
    "# Recode coresidence核心家庭\n",
    "coresidence_counts = df['coresidence'].value_counts()\n",
    "print(\"coresidence_counts:\\n\", coresidence_counts)\n",
    "\n",
    "def recode(coresidence):\n",
    "    if coresidence == '核心家庭':\n",
    "        return 1\n",
    "    else:\n",
    "        return 0\n",
    "df['coresidence_recode'] = df['coresidence'].apply(recode)\n",
    "df.head()\n",
    "\n"
   ]
  },
  {
   "cell_type": "markdown",
   "metadata": {},
   "source": [
    "## education"
   ]
  },
  {
   "cell_type": "code",
   "execution_count": null,
   "metadata": {},
   "outputs": [],
   "source": [
    "# Recode education\n",
    "edu_counts = df['edu'].value_counts()\n",
    "print(\"edu_counts:\\n\", edu_counts)\n",
    "\n",
    "edu_recode_dict = {\n",
    "    '小学及以下': 1,\n",
    "    '初中': 1,\n",
    "    '高中': 2,\n",
    "    '大专': 3,\n",
    "    '本科': 4,\n",
    "    '硕士': 4,\n",
    "    '博士': 4\n",
    "}\n",
    "\n",
    "edu_label_dict = {\n",
    "    1: 'middle school and below',\n",
    "    2: 'high school',\n",
    "    3: 'associate',\n",
    "    4: 'bachelor and above'\n",
    "}\n",
    "\n",
    "df['edu_recode'] = df['edu'].map(edu_recode_dict)\n",
    "df['edu_label'] = df['edu_recode'].map(edu_label_dict)\n",
    "\n",
    "print(df)\n"
   ]
  },
  {
   "cell_type": "markdown",
   "metadata": {},
   "source": [
    "## age"
   ]
  },
  {
   "cell_type": "code",
   "execution_count": null,
   "metadata": {},
   "outputs": [],
   "source": [
    "# Recode age\n",
    "min_age = df['age'].min()\n",
    "max_age = df['age'].max()\n",
    "\n",
    "print(f\"Minimum age: {min_age}\")\n",
    "print(f\"Maximum age: {max_age}\")\n",
    "\n",
    "# Install matplotlib package\n",
    "%pip install matplotlib\n",
    "%pip install seaborn\n",
    "\n",
    "import matplotlib.pyplot as plt\n",
    "import seaborn as sns\n",
    "\n",
    "# Set the style of the plot\n",
    "sns.set_theme(style=\"whitegrid\")\n",
    "\n",
    "# Create a histogram of the 'age' variable\n",
    "plt.figure(figsize=(8, 6))\n",
    "sns.histplot(df['age'], bins=15, kde=True, color='skyblue')\n",
    "\n",
    "# Set plot labels and title\n",
    "plt.title('Distribution of Age', fontsize=16)\n",
    "plt.xlabel('Age', fontsize=12)\n",
    "plt.ylabel('Frequency', fontsize=12)\n",
    "\n",
    "# Show the plot\n",
    "plt.show()\n",
    "\n",
    "#count over 40\n",
    "count_40above = (df['age'] >= 40).sum()\n",
    "print(count_40above)\n",
    "\n",
    "#count between 20 to 29\n",
    "count_20to25 = ((df['age'] >= 20) & (df['age'] < 25)).sum()\n",
    "print(count_20to25)\n",
    "\n",
    "count_25to30 = ((df['age'] >= 25) & (df['age'] < 30)).sum()\n",
    "print(count_25to30)\n",
    "\n",
    "# age group\n",
    "def categorize_age(age):\n",
    "    if 20 <= age <= 24:\n",
    "        return 1, \"age 20 to 24\"\n",
    "    elif 25 <= age <= 29:\n",
    "        return 2, \"age 25 to 29\"\n",
    "    elif 30 <= age <= 34:\n",
    "        return 3, \"age 30 to 34\"\n",
    "    elif 35 <= age <= 39:\n",
    "        return 4, \"age 35 to 40\"\n",
    "    else:\n",
    "        return 5, \"age above 40\"\n",
    "\n",
    "df[['age_group', 'age_group']] = df['age'].apply(lambda x: pd.Series(categorize_age(x)))\n",
    "\n",
    "print(df)\n"
   ]
  },
  {
   "cell_type": "markdown",
   "metadata": {},
   "source": [
    "## Income"
   ]
  },
  {
   "cell_type": "code",
   "execution_count": null,
   "metadata": {},
   "outputs": [
    {
     "name": "stdout",
     "output_type": "stream",
     "text": [
      "income_counts:\n",
      " income\n",
      "10-19万      297\n",
      "7-9.9万      234\n",
      "4-6.9万      164\n",
      "20-49万      116\n",
      "1-3.9万       99\n",
      "1万以下         34\n",
      "50-99万       23\n",
      "100-199万     10\n",
      "200万以上        1\n",
      "Name: count, dtype: int64\n",
      "Minimum income: 1万以下\n",
      "Maximum income: 200万以上\n"
     ]
    }
   ],
   "source": [
    "income_counts = df['income'].value_counts()\n",
    "print(\"income_counts:\\n\", income_counts)\n",
    "\n",
    "# Convert 'income' column to an ordered categorical type\n",
    "income_order = ['1万以下', '1-3.9万', '4-6.9万', '7-9.9万', '10-19万', '20-49万', '50-99万', '100-199万', '200万以上']\n",
    "df['income'] = pd.Categorical(df['income'], categories=income_order, ordered=True)\n",
    "\n",
    "min_income = df['income']31 .min()\n",
    "max_income = df['income'].max()\n",
    "\n",
    "print(f\"Minimum income: {min_income}\")\n",
    "print(f\"Maximum income: {max_income}\")\n"
   ]
  },
  {
   "cell_type": "code",
   "execution_count": null,
   "metadata": {},
   "outputs": [],
   "source": [
    "def clean_data(df):\n",
    "    # Change column type to category for column: 'edu_recode'\n",
    "    df = df.astype({'edu_recode': 'category'})\n",
    "    # Change column type to category for column: 'age_group'\n",
    "    df = df.astype({'age_group': 'category'})\n",
    "    # Change column type to category for column: 'coresidence_recode'\n",
    "    df = df.astype({'coresidence_recode': 'category'})\n",
    "    return df\n",
    "\n",
    "df_clean = clean_data(df.copy())\n",
    "df_clean.head()"
   ]
  },
  {
   "cell_type": "markdown",
   "metadata": {},
   "source": [
    "# sem modeling"
   ]
  },
  {
   "cell_type": "code",
   "execution_count": null,
   "metadata": {},
   "outputs": [],
   "source": [
    "# Install semopy package\n",
    "%pip install semopy\n",
    "\n",
    "# SEM modeling testing:\n",
    "    #orginal model filial piety, satisfaction, anxiety\n",
    "from semopy import Model\n",
    "\n",
    "desc = \"\"\"\n",
    "    filial =~ XS1 + XS2 + XS3 + XS4 + XS5 + XS6 + XS7 + XS8\n",
    "    satisfaction =~ JT1 + JT2 + JT3 + JT4 + JT5\n",
    "    anxiety =~ JL1 + JL2 + JL3 +JL4 +JL5 +JL6 +JL7 +JL8 + JL9\n",
    "    coresidence =~\n",
    "\"\"\"\n",
    "model = Model(desc)\n",
    "opt_res = model.fit(df)\n",
    "estimates = model.inspect()\n",
    "\n",
    "print(estimates)\n",
    "\n",
    "#filial ~ satisfaction: 0.243 (p < 0.001)\n",
    "#filial ~ anxiety: 0.443 (p < 0.001) moderate relationship.\n",
    "#satisfaction ~ anxiety: -0.006 (p = 0.775)"
   ]
  }
 ],
 "metadata": {
  "kernelspec": {
   "display_name": "Python 3",
   "language": "python",
   "name": "python3"
  },
  "language_info": {
   "codemirror_mode": {
    "name": "ipython",
    "version": 3
   },
   "file_extension": ".py",
   "mimetype": "text/x-python",
   "name": "python",
   "nbconvert_exporter": "python",
   "pygments_lexer": "ipython3",
   "version": "3.11.11"
  }
 },
 "nbformat": 4,
 "nbformat_minor": 2
}
